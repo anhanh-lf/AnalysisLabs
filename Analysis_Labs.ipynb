{
 "cells": [
  {
   "cell_type": "markdown",
   "id": "66d6a318",
   "metadata": {},
   "source": [
    "Lab 1 – Tỷ lệ hủy đặt phòng\n",
    "Yêu cầu: Tính tỷ lệ hủy đặt phòng (is_canceled) cho từng năm (2018, 2019, 2020).\n",
    "Gợi ý: Đếm số đặt phòng bị hủy / tổng số đặt phòng."
   ]
  },
  {
   "cell_type": "code",
   "execution_count": 1,
   "id": "7f821efd",
   "metadata": {},
   "outputs": [
    {
     "data": {
      "text/plain": [
       "dict_keys(['2018', '2019', '2020', 'meal_cost', 'market_segment', 'Practices'])"
      ]
     },
     "execution_count": 1,
     "metadata": {},
     "output_type": "execute_result"
    }
   ],
   "source": [
    "import pandas as pd \n",
    "hotel_revenue = pd.read_excel(\"hotel_revenue_historical_full.xlsx\", engine= \"openpyxl\", sheet_name= None)\n",
    "hotel_revenue.keys()"
   ]
  },
  {
   "cell_type": "code",
   "execution_count": 2,
   "id": "887bcdb2",
   "metadata": {},
   "outputs": [
    {
     "name": "stdout",
     "output_type": "stream",
     "text": [
      "hotel                                     object\n",
      "is_canceled                                int64\n",
      "lead_time                                  int64\n",
      "arrival_date_year                          int64\n",
      "arrival_date_month                        object\n",
      "arrival_date_week_number                   int64\n",
      "arrival_date_day_of_month                  int64\n",
      "stays_in_weekend_nights                    int64\n",
      "stays_in_week_nights                       int64\n",
      "adults                                     int64\n",
      "children                                 float64\n",
      "babies                                     int64\n",
      "meal                                      object\n",
      "country                                   object\n",
      "market_segment                            object\n",
      "distribution_channel                      object\n",
      "is_repeated_guest                          int64\n",
      "previous_cancellations                     int64\n",
      "previous_bookings_not_canceled             int64\n",
      "reserved_room_type                        object\n",
      "assigned_room_type                        object\n",
      "booking_changes                            int64\n",
      "deposit_type                              object\n",
      "agent                                    float64\n",
      "company                                  float64\n",
      "days_in_waiting_list                       int64\n",
      "customer_type                             object\n",
      "adr                                      float64\n",
      "required_car_parking_spaces                int64\n",
      "total_of_special_requests                  int64\n",
      "reservation_status                        object\n",
      "reservation_status_date           datetime64[ns]\n",
      "dtype: object\n",
      "hotel                                     object\n",
      "is_canceled                                int64\n",
      "lead_time                                  int64\n",
      "arrival_date_year                          int64\n",
      "arrival_date_month                        object\n",
      "arrival_date_week_number                   int64\n",
      "arrival_date_day_of_month                  int64\n",
      "stays_in_weekend_nights                    int64\n",
      "stays_in_week_nights                       int64\n",
      "adults                                     int64\n",
      "children                                 float64\n",
      "babies                                     int64\n",
      "meal                                      object\n",
      "country                                   object\n",
      "market_segment                            object\n",
      "distribution_channel                      object\n",
      "is_repeated_guest                          int64\n",
      "previous_cancellations                     int64\n",
      "previous_bookings_not_canceled             int64\n",
      "reserved_room_type                        object\n",
      "assigned_room_type                        object\n",
      "booking_changes                            int64\n",
      "deposit_type                              object\n",
      "agent                                    float64\n",
      "company                                  float64\n",
      "days_in_waiting_list                       int64\n",
      "customer_type                             object\n",
      "adr                                      float64\n",
      "required_car_parking_spaces                int64\n",
      "total_of_special_requests                  int64\n",
      "reservation_status                        object\n",
      "reservation_status_date           datetime64[ns]\n",
      "dtype: object\n",
      "hotel                                     object\n",
      "is_canceled                                int64\n",
      "lead_time                                  int64\n",
      "arrival_date_year                          int64\n",
      "arrival_date_month                        object\n",
      "arrival_date_week_number                   int64\n",
      "arrival_date_day_of_month                  int64\n",
      "stays_in_weekend_nights                    int64\n",
      "stays_in_week_nights                       int64\n",
      "adults                                     int64\n",
      "children                                   int64\n",
      "babies                                     int64\n",
      "meal                                      object\n",
      "country                                   object\n",
      "market_segment                            object\n",
      "distribution_channel                      object\n",
      "is_repeated_guest                          int64\n",
      "previous_cancellations                     int64\n",
      "previous_bookings_not_canceled             int64\n",
      "reserved_room_type                        object\n",
      "assigned_room_type                        object\n",
      "booking_changes                            int64\n",
      "deposit_type                              object\n",
      "agent                                    float64\n",
      "company                                  float64\n",
      "days_in_waiting_list                       int64\n",
      "customer_type                             object\n",
      "adr                                      float64\n",
      "required_car_parking_spaces                int64\n",
      "total_of_special_requests                  int64\n",
      "reservation_status                        object\n",
      "reservation_status_date           datetime64[ns]\n",
      "dtype: object\n",
      "Cost    float64\n",
      "meal     object\n",
      "dtype: object\n",
      "Discount          float64\n",
      "market_segment     object\n",
      "dtype: object\n",
      "Lab 1 – Tỷ lệ hủy đặt phòng\\nYêu cầu: Tính tỷ lệ hủy đặt phòng (is_canceled) cho từng năm (2018, 2019, 2020).\\nGợi ý: Đếm số đặt phòng bị hủy / tổng số đặt phòng.\\n\\nLab 2 – Doanh thu trung bình theo khách sạn\\nYêu cầu: Tính ADR trung bình (adr) của City Hotel và Resort Hotel trong từng năm.\\nSo sánh khách sạn nào mang lại giá trị cao hơn.\\n\\nLab 3 – Lead time\\nYêu cầu: Tính lead_time trung bình cho các booking bị hủy vs không hủy.\\nNhận xét: Lead_time dài có làm tăng khả năng hủy đặt phòng không?\\n\\nLab 4 – Doanh thu theo kênh bán hàng\\nYêu cầu: Ghép dữ liệu với sheet market_segment.\\nTính doanh thu trung bình (ADR × số đêm ở × (1 - discount)) cho từng market_segment.\\n\\nLab 5 – Meal plan\\nYêu cầu: Ghép dữ liệu với sheet meal_cost.\\nTính chi phí ăn uống trung bình cho mỗi loại meal.\\nXem loại meal nào được chọn nhiều nhất.\\n\\nLab 6 – Phân bổ theo tháng\\nYêu cầu: Vẽ biểu đồ số lượng booking theo arrival_date_month cho từng năm.\\nNhận xét: Mùa cao điểm du lịch là tháng nào?\\n    object\n",
      "Lab 7 – Kiểm tra giá trị thiếu (NaN)\\nYêu cầu: Đếm số lượng giá trị NaN trong từng cột (ví dụ agent, company).\\nHãy đề xuất cách xử lý (xóa, thay bằng giá trị mặc định, hay giữ nguyên).\\n\\nLab 8 – Chuẩn hóa ngày tháng\\nYêu cầu: Ghép các cột arrival_date_year, arrival_date_month, arrival_date_day_of_month thành một cột arrival_date dạng datetime.\\nKiểm tra có giá trị nào không hợp lệ không.\\n\\nLab 9 – Tạo biến mới\\nYêu cầu: Tạo thêm cột total_nights = stays_in_weekend_nights + stays_in_week_nights.\\nSau đó tính số booking có total_nights = 0 (đặt nhưng không ở).\\n\\nLab 10 – Xử lý dữ liệu không hợp lệ\\nYêu cầu: Kiểm tra cột adr (Average Daily Rate).\\nCó giá trị nào âm hoặc bằng 0 không? Nếu có → xử lý thế nào?\\n\\nLab 11 – Chuẩn hóa dữ liệu text\\nYêu cầu: Kiểm tra cột meal và market_segment.\\nCó giá trị \"Undefined\" → thay bằng \"Other\".\\n                                                                                                                                                   object\n",
      "dtype: object\n"
     ]
    }
   ],
   "source": [
    "# Kiểm tra các kiểu dữ liệu của từng cột\n",
    "for sheet, df in hotel_revenue.items():\n",
    "    print(df.dtypes)"
   ]
  },
  {
   "cell_type": "code",
   "execution_count": 3,
   "id": "4c4476d4",
   "metadata": {},
   "outputs": [
    {
     "name": "stdout",
     "output_type": "stream",
     "text": [
      "hotel                                     object\n",
      "is_canceled                                int64\n",
      "lead_time                                  int64\n",
      "arrival_date_year                          int64\n",
      "arrival_date_month                        object\n",
      "arrival_date_week_number                   int64\n",
      "arrival_date_day_of_month                  int64\n",
      "stays_in_weekend_nights                    int64\n",
      "stays_in_week_nights                       int64\n",
      "adults                                     int64\n",
      "children                                   int64\n",
      "babies                                     int64\n",
      "meal                                      object\n",
      "country                                   object\n",
      "market_segment                            object\n",
      "distribution_channel                      object\n",
      "is_repeated_guest                          int64\n",
      "previous_cancellations                     int64\n",
      "previous_bookings_not_canceled             int64\n",
      "reserved_room_type                        object\n",
      "assigned_room_type                        object\n",
      "booking_changes                            int64\n",
      "deposit_type                              object\n",
      "agent                                    float64\n",
      "company                                  float64\n",
      "days_in_waiting_list                       int64\n",
      "customer_type                             object\n",
      "adr                                      float64\n",
      "required_car_parking_spaces                int64\n",
      "total_of_special_requests                  int64\n",
      "reservation_status                        object\n",
      "reservation_status_date           datetime64[ns]\n",
      "dtype: object\n",
      "hotel                                     object\n",
      "is_canceled                                int64\n",
      "lead_time                                  int64\n",
      "arrival_date_year                          int64\n",
      "arrival_date_month                        object\n",
      "arrival_date_week_number                   int64\n",
      "arrival_date_day_of_month                  int64\n",
      "stays_in_weekend_nights                    int64\n",
      "stays_in_week_nights                       int64\n",
      "adults                                     int64\n",
      "children                                   int64\n",
      "babies                                     int64\n",
      "meal                                      object\n",
      "country                                   object\n",
      "market_segment                            object\n",
      "distribution_channel                      object\n",
      "is_repeated_guest                          int64\n",
      "previous_cancellations                     int64\n",
      "previous_bookings_not_canceled             int64\n",
      "reserved_room_type                        object\n",
      "assigned_room_type                        object\n",
      "booking_changes                            int64\n",
      "deposit_type                              object\n",
      "agent                                    float64\n",
      "company                                  float64\n",
      "days_in_waiting_list                       int64\n",
      "customer_type                             object\n",
      "adr                                      float64\n",
      "required_car_parking_spaces                int64\n",
      "total_of_special_requests                  int64\n",
      "reservation_status                        object\n",
      "reservation_status_date           datetime64[ns]\n",
      "dtype: object\n",
      "hotel                                     object\n",
      "is_canceled                                int64\n",
      "lead_time                                  int64\n",
      "arrival_date_year                          int64\n",
      "arrival_date_month                        object\n",
      "arrival_date_week_number                   int64\n",
      "arrival_date_day_of_month                  int64\n",
      "stays_in_weekend_nights                    int64\n",
      "stays_in_week_nights                       int64\n",
      "adults                                     int64\n",
      "children                                   int64\n",
      "babies                                     int64\n",
      "meal                                      object\n",
      "country                                   object\n",
      "market_segment                            object\n",
      "distribution_channel                      object\n",
      "is_repeated_guest                          int64\n",
      "previous_cancellations                     int64\n",
      "previous_bookings_not_canceled             int64\n",
      "reserved_room_type                        object\n",
      "assigned_room_type                        object\n",
      "booking_changes                            int64\n",
      "deposit_type                              object\n",
      "agent                                    float64\n",
      "company                                  float64\n",
      "days_in_waiting_list                       int64\n",
      "customer_type                             object\n",
      "adr                                      float64\n",
      "required_car_parking_spaces                int64\n",
      "total_of_special_requests                  int64\n",
      "reservation_status                        object\n",
      "reservation_status_date           datetime64[ns]\n",
      "dtype: object\n",
      "Cost    float64\n",
      "meal     object\n",
      "dtype: object\n",
      "Discount          float64\n",
      "market_segment     object\n",
      "dtype: object\n",
      "Lab 1 – Tỷ lệ hủy đặt phòng\\nYêu cầu: Tính tỷ lệ hủy đặt phòng (is_canceled) cho từng năm (2018, 2019, 2020).\\nGợi ý: Đếm số đặt phòng bị hủy / tổng số đặt phòng.\\n\\nLab 2 – Doanh thu trung bình theo khách sạn\\nYêu cầu: Tính ADR trung bình (adr) của City Hotel và Resort Hotel trong từng năm.\\nSo sánh khách sạn nào mang lại giá trị cao hơn.\\n\\nLab 3 – Lead time\\nYêu cầu: Tính lead_time trung bình cho các booking bị hủy vs không hủy.\\nNhận xét: Lead_time dài có làm tăng khả năng hủy đặt phòng không?\\n\\nLab 4 – Doanh thu theo kênh bán hàng\\nYêu cầu: Ghép dữ liệu với sheet market_segment.\\nTính doanh thu trung bình (ADR × số đêm ở × (1 - discount)) cho từng market_segment.\\n\\nLab 5 – Meal plan\\nYêu cầu: Ghép dữ liệu với sheet meal_cost.\\nTính chi phí ăn uống trung bình cho mỗi loại meal.\\nXem loại meal nào được chọn nhiều nhất.\\n\\nLab 6 – Phân bổ theo tháng\\nYêu cầu: Vẽ biểu đồ số lượng booking theo arrival_date_month cho từng năm.\\nNhận xét: Mùa cao điểm du lịch là tháng nào?\\n    object\n",
      "Lab 7 – Kiểm tra giá trị thiếu (NaN)\\nYêu cầu: Đếm số lượng giá trị NaN trong từng cột (ví dụ agent, company).\\nHãy đề xuất cách xử lý (xóa, thay bằng giá trị mặc định, hay giữ nguyên).\\n\\nLab 8 – Chuẩn hóa ngày tháng\\nYêu cầu: Ghép các cột arrival_date_year, arrival_date_month, arrival_date_day_of_month thành một cột arrival_date dạng datetime.\\nKiểm tra có giá trị nào không hợp lệ không.\\n\\nLab 9 – Tạo biến mới\\nYêu cầu: Tạo thêm cột total_nights = stays_in_weekend_nights + stays_in_week_nights.\\nSau đó tính số booking có total_nights = 0 (đặt nhưng không ở).\\n\\nLab 10 – Xử lý dữ liệu không hợp lệ\\nYêu cầu: Kiểm tra cột adr (Average Daily Rate).\\nCó giá trị nào âm hoặc bằng 0 không? Nếu có → xử lý thế nào?\\n\\nLab 11 – Chuẩn hóa dữ liệu text\\nYêu cầu: Kiểm tra cột meal và market_segment.\\nCó giá trị \"Undefined\" → thay bằng \"Other\".\\n                                                                                                                                                   object\n",
      "dtype: object\n"
     ]
    }
   ],
   "source": [
    "# Chuyển kiểu cột \"children\" thành int \n",
    "for sheet, df in hotel_revenue.items():\n",
    "    if \"children\" in df.columns:\n",
    "        df[\"children\"] = df[\"children\"].fillna(0).astype(int)\n",
    "        hotel_revenue[sheet] = df\n",
    "# Kiểm tra đã chuyển kiểu hay chưa    \n",
    "    print(df.dtypes)"
   ]
  },
  {
   "cell_type": "code",
   "execution_count": 4,
   "id": "ceabc5da",
   "metadata": {},
   "outputs": [
    {
     "name": "stdout",
     "output_type": "stream",
     "text": [
      "2018\n",
      "Index(['hotel', 'is_canceled', 'lead_time', 'arrival_date_year',\n",
      "       'arrival_date_month', 'arrival_date_week_number',\n",
      "       'arrival_date_day_of_month', 'stays_in_weekend_nights',\n",
      "       'stays_in_week_nights', 'adults', 'children', 'babies', 'meal',\n",
      "       'country', 'market_segment', 'distribution_channel',\n",
      "       'is_repeated_guest', 'previous_cancellations',\n",
      "       'previous_bookings_not_canceled', 'reserved_room_type',\n",
      "       'assigned_room_type', 'booking_changes', 'deposit_type', 'agent',\n",
      "       'company', 'days_in_waiting_list', 'customer_type', 'adr',\n",
      "       'required_car_parking_spaces', 'total_of_special_requests',\n",
      "       'reservation_status', 'reservation_status_date'],\n",
      "      dtype='object')\n",
      "2019\n",
      "Index(['hotel', 'is_canceled', 'lead_time', 'arrival_date_year',\n",
      "       'arrival_date_month', 'arrival_date_week_number',\n",
      "       'arrival_date_day_of_month', 'stays_in_weekend_nights',\n",
      "       'stays_in_week_nights', 'adults', 'children', 'babies', 'meal',\n",
      "       'country', 'market_segment', 'distribution_channel',\n",
      "       'is_repeated_guest', 'previous_cancellations',\n",
      "       'previous_bookings_not_canceled', 'reserved_room_type',\n",
      "       'assigned_room_type', 'booking_changes', 'deposit_type', 'agent',\n",
      "       'company', 'days_in_waiting_list', 'customer_type', 'adr',\n",
      "       'required_car_parking_spaces', 'total_of_special_requests',\n",
      "       'reservation_status', 'reservation_status_date'],\n",
      "      dtype='object')\n",
      "2020\n",
      "Index(['hotel', 'is_canceled', 'lead_time', 'arrival_date_year',\n",
      "       'arrival_date_month', 'arrival_date_week_number',\n",
      "       'arrival_date_day_of_month', 'stays_in_weekend_nights',\n",
      "       'stays_in_week_nights', 'adults', 'children', 'babies', 'meal',\n",
      "       'country', 'market_segment', 'distribution_channel',\n",
      "       'is_repeated_guest', 'previous_cancellations',\n",
      "       'previous_bookings_not_canceled', 'reserved_room_type',\n",
      "       'assigned_room_type', 'booking_changes', 'deposit_type', 'agent',\n",
      "       'company', 'days_in_waiting_list', 'customer_type', 'adr',\n",
      "       'required_car_parking_spaces', 'total_of_special_requests',\n",
      "       'reservation_status', 'reservation_status_date'],\n",
      "      dtype='object')\n",
      "meal_cost\n",
      "Index(['Cost', 'meal'], dtype='object')\n",
      "market_segment\n",
      "Index(['Discount', 'market_segment'], dtype='object')\n",
      "Practices\n",
      "Index(['Lab 1 – Tỷ lệ hủy đặt phòng\\nYêu cầu: Tính tỷ lệ hủy đặt phòng (is_canceled) cho từng năm (2018, 2019, 2020).\\nGợi ý: Đếm số đặt phòng bị hủy / tổng số đặt phòng.\\n\\nLab 2 – Doanh thu trung bình theo khách sạn\\nYêu cầu: Tính ADR trung bình (adr) của City Hotel và Resort Hotel trong từng năm.\\nSo sánh khách sạn nào mang lại giá trị cao hơn.\\n\\nLab 3 – Lead time\\nYêu cầu: Tính lead_time trung bình cho các booking bị hủy vs không hủy.\\nNhận xét: Lead_time dài có làm tăng khả năng hủy đặt phòng không?\\n\\nLab 4 – Doanh thu theo kênh bán hàng\\nYêu cầu: Ghép dữ liệu với sheet market_segment.\\nTính doanh thu trung bình (ADR × số đêm ở × (1 - discount)) cho từng market_segment.\\n\\nLab 5 – Meal plan\\nYêu cầu: Ghép dữ liệu với sheet meal_cost.\\nTính chi phí ăn uống trung bình cho mỗi loại meal.\\nXem loại meal nào được chọn nhiều nhất.\\n\\nLab 6 – Phân bổ theo tháng\\nYêu cầu: Vẽ biểu đồ số lượng booking theo arrival_date_month cho từng năm.\\nNhận xét: Mùa cao điểm du lịch là tháng nào?\\n', 'Lab 7 – Kiểm tra giá trị thiếu (NaN)\\nYêu cầu: Đếm số lượng giá trị NaN trong từng cột (ví dụ agent, company).\\nHãy đề xuất cách xử lý (xóa, thay bằng giá trị mặc định, hay giữ nguyên).\\n\\nLab 8 – Chuẩn hóa ngày tháng\\nYêu cầu: Ghép các cột arrival_date_year, arrival_date_month, arrival_date_day_of_month thành một cột arrival_date dạng datetime.\\nKiểm tra có giá trị nào không hợp lệ không.\\n\\nLab 9 – Tạo biến mới\\nYêu cầu: Tạo thêm cột total_nights = stays_in_weekend_nights + stays_in_week_nights.\\nSau đó tính số booking có total_nights = 0 (đặt nhưng không ở).\\n\\nLab 10 – Xử lý dữ liệu không hợp lệ\\nYêu cầu: Kiểm tra cột adr (Average Daily Rate).\\nCó giá trị nào âm hoặc bằng 0 không? Nếu có → xử lý thế nào?\\n\\nLab 11 – Chuẩn hóa dữ liệu text\\nYêu cầu: Kiểm tra cột meal và market_segment.\\nCó giá trị \"Undefined\" → thay bằng \"Other\".\\n'], dtype='object')\n"
     ]
    }
   ],
   "source": [
    "# Kiểm tra đã đọc đủ tất cả sheet hay chưa\n",
    "for sheet, df in hotel_revenue.items():\n",
    "    print(sheet)\n",
    "    print(df.columns)"
   ]
  },
  {
   "cell_type": "code",
   "execution_count": 5,
   "id": "0c54c05e",
   "metadata": {},
   "outputs": [
    {
     "name": "stdout",
     "output_type": "stream",
     "text": [
      "Tỷ lệ hủy đặt phòng năm 2018: 37.02%\n",
      "Tỷ lệ hủy đặt phòng năm 2019: 36.53%\n",
      "Tỷ lệ hủy đặt phòng năm 2020: 38.70%\n"
     ]
    }
   ],
   "source": [
    "for year, df in hotel_revenue.items():\n",
    "    if year in [\"2018\", \"2019\", \"2020\"]:\n",
    "        # Tính tổng các booking bị hủy và tổng số booking\n",
    "        total_canceled = df[\"is_canceled\"].sum()\n",
    "        total_booking = len(df)\n",
    "        # Tính tỉ lệ hủy đặt phòng\n",
    "        cancel_rate = total_canceled / total_booking\n",
    "        print(f\"Tỷ lệ hủy đặt phòng năm {year}: {cancel_rate:.2%}\")\n"
   ]
  },
  {
   "cell_type": "markdown",
   "id": "89b111c2",
   "metadata": {},
   "source": [
    "Lab 2 – Doanh thu trung bình theo khách sạn\n",
    "Yêu cầu: Tính ADR trung bình (adr) của City Hotel và Resort Hotel trong từng năm.\n",
    "So sánh khách sạn nào mang lại giá trị cao hơn."
   ]
  },
  {
   "cell_type": "code",
   "execution_count": 6,
   "id": "114a5f0d",
   "metadata": {},
   "outputs": [
    {
     "name": "stdout",
     "output_type": "stream",
     "text": [
      "Năm: 2018\n",
      "ADR của City Hotel là: 85.86\n",
      "ADR của Resort Hotel là: 89.35\n",
      "Resort Hotel mang lại giá trị cao hơn City Hotel\n",
      "Năm: 2019\n",
      "ADR của City Hotel là: 98.82\n",
      "ADR của Resort Hotel là: 87.75\n",
      "City Hotel mang lại giá trị cao hơn Resort Hotel\n",
      "Năm: 2020\n",
      "ADR của City Hotel là: 117.50\n",
      "ADR của Resort Hotel là: 108.66\n",
      "City Hotel mang lại giá trị cao hơn Resort Hotel\n"
     ]
    }
   ],
   "source": [
    "for year, df in hotel_revenue.items():\n",
    "    if year in [\"2018\",\"2019\", \"2020\"]:\n",
    "        # Tách data của City Hotel\n",
    "        city_df = df[df[\"hotel\"] == \"City Hotel\"]\n",
    "        city_adr = city_df[\"adr\"].mean()\n",
    "        # Tách data của Resort Hotel \n",
    "        resort_df = df[df[\"hotel\"] == \"Resort Hotel\"]\n",
    "        resort_adr = resort_df[\"adr\"].mean()\n",
    "        \n",
    "        print(f\"Năm: {year}\")\n",
    "        print(f\"ADR của City Hotel là: {city_adr:.2f}\")\n",
    "        print(f\"ADR của Resort Hotel là: {resort_adr:.2f}\")\n",
    "\n",
    "        # So sánh cả hai \n",
    "        if (city_adr > resort_adr):\n",
    "            print(\"City Hotel mang lại giá trị cao hơn Resort Hotel\")\n",
    "        elif (city_adr == resort_adr): \n",
    "            print(\"City Hotel và Resort Hotel mang lại giá trị như nhau\")\n",
    "        else:\n",
    "            print(\"Resort Hotel mang lại giá trị cao hơn City Hotel\") \n",
    "               "
   ]
  },
  {
   "cell_type": "markdown",
   "id": "dc16ca5b",
   "metadata": {},
   "source": [
    "Lab 3 – Lead time\n",
    "Yêu cầu: Tính lead_time trung bình cho các booking bị hủy vs không hủy.\n",
    "Nhận xét: Lead_time dài có làm tăng khả năng hủy đặt phòng không?"
   ]
  },
  {
   "cell_type": "code",
   "execution_count": 7,
   "id": "dc6c74c4",
   "metadata": {},
   "outputs": [
    {
     "name": "stdout",
     "output_type": "stream",
     "text": [
      "Lead time trung bình cho các booking bị hủy là : 146.55\n",
      "Lead time trung bình cho các booking không bị hủy là : 76.89\n",
      "\n",
      "Lead time dài làm tăng khả năng hủy đặt phòng\n"
     ]
    }
   ],
   "source": [
    "# Tổng hợp dữ liệu của 3 năm: 2018, 2019,2020\n",
    "df_total_year = []\n",
    "\n",
    "# Sử dụng concat để tổng hợp dữ liệu của 3 năm\n",
    "for year, df in hotel_revenue.items():\n",
    "    if year in [\"2018\", \"2019\", \"2020\"]:\n",
    "        df_total_year.append(df)\n",
    "\n",
    "df_total = pd.concat(df_total_year)\n",
    "\n",
    "# Tính lead time trung bình\n",
    "lead_time_cancel = df_total[df_total[\"is_canceled\"] == 1][\"lead_time\"].mean()\n",
    "lead_time_not = df_total[df_total[\"is_canceled\"] == 0][\"lead_time\"].mean()\n",
    "\n",
    "print(f\"Lead time trung bình cho các booking bị hủy là : {lead_time_cancel:.2f}\")\n",
    "print(f\"Lead time trung bình cho các booking không bị hủy là : {lead_time_not:.2f}\")\n",
    "\n",
    "# Nhận xét\n",
    "if (lead_time_cancel > lead_time_not):\n",
    "    print(\"\\nLead time dài làm tăng khả năng hủy đặt phòng\")\n",
    "else:\n",
    "    print(\"\\nLead time dài không làm tăng khả năng hủy đặt phòng \")\n"
   ]
  },
  {
   "cell_type": "markdown",
   "id": "041716eb",
   "metadata": {},
   "source": [
    "Lab 4 – Doanh thu theo kênh bán hàng\n",
    "Yêu cầu: Ghép dữ liệu với sheet market_segment.\n",
    "Tính doanh thu trung bình (ADR × số đêm ở × (1 - discount)) cho từng market_segment."
   ]
  },
  {
   "cell_type": "code",
   "execution_count": 8,
   "id": "9a5aee1c",
   "metadata": {},
   "outputs": [
    {
     "name": "stdout",
     "output_type": "stream",
     "text": [
      "Doanh thu trung bình là: \n",
      "  market_segment     revenue\n",
      "0       Aviation  295.177586\n",
      "1  Complementary    0.000000\n",
      "2      Corporate  126.720774\n",
      "3         Direct  365.404751\n",
      "4         Groups  207.921811\n",
      "5  Offline TA/TO  231.397741\n",
      "6      Online TA  294.739007\n",
      "7      Undefined   24.000000\n"
     ]
    }
   ],
   "source": [
    "# Ghép dữ liệu với sheet market_segment\n",
    "df_market = hotel_revenue[\"market_segment\"]\n",
    "df_merge_market = pd.merge(df_total, df_market, on= \"market_segment\", how= \"left\")\n",
    "\n",
    "# Tạo thêm cột chứa số đêm ở và số doanh thu \n",
    "df_merge_market[\"stay_night_total\"] = (\n",
    "    df_merge_market[\"stays_in_week_nights\"] + df_merge_market[\"stays_in_weekend_nights\"])\n",
    "df_merge_market[\"revenue\"] = (\n",
    "    df_merge_market[\"adr\"] * df_merge_market[\"stay_night_total\"] * (1 - df_merge_market[\"Discount\"]))\n",
    "\n",
    "# Tính doanh thu trung bình của từng market segment\n",
    "df_mean_renevue = df_merge_market.groupby(\"market_segment\")[\"revenue\"].mean().reset_index()\n",
    "\n",
    "print(\"Doanh thu trung bình là: \")\n",
    "print(df_mean_renevue)\n"
   ]
  },
  {
   "cell_type": "markdown",
   "id": "4a4a7f42",
   "metadata": {},
   "source": [
    "Lab 5 – Meal plan\n",
    "Yêu cầu: Ghép dữ liệu với sheet meal_cost.\n",
    "Tính chi phí ăn uống trung bình cho mỗi loại meal.\n",
    "Xem loại meal nào được chọn nhiều nhất."
   ]
  },
  {
   "cell_type": "code",
   "execution_count": 9,
   "id": "20eeedc9",
   "metadata": {},
   "outputs": [
    {
     "name": "stdout",
     "output_type": "stream",
     "text": [
      "Chi phí ăn uống trung bình cho mỗi loại meal là: \n",
      "        meal   Cost\n",
      "0         BB  12.99\n",
      "1         FB  21.99\n",
      "2         HB  17.99\n",
      "3         SC  35.00\n",
      "4  Undefined   0.00\n",
      "\n",
      "Loại meal được chọn nhiều nhất là: BB\n"
     ]
    }
   ],
   "source": [
    "# Ghép dữ liệu với sheet meal_cost \n",
    "df_meal_cost = hotel_revenue[\"meal_cost\"]\n",
    "df_merge_meal = pd.merge(df_total, df_meal_cost, how= \"outer\")\n",
    "\n",
    "# Tính chi phí ăn uống trung bình cho mỗi loại meal \n",
    "df_cost_mean = df_merge_meal.groupby(\"meal\")[\"Cost\"].mean().reset_index()\n",
    "\n",
    "print(\"Chi phí ăn uống trung bình cho mỗi loại meal là: \")\n",
    "print(df_cost_mean)\n",
    "\n",
    "# Nhận xét loại meal nào được chọn nhiều nhất\n",
    "most_meal = df_merge_meal[\"meal\"].value_counts().idxmax()\n",
    "print(f\"\\nLoại meal được chọn nhiều nhất là: {most_meal}\")"
   ]
  },
  {
   "cell_type": "markdown",
   "id": "7a068d24",
   "metadata": {},
   "source": [
    "Lab 6 – Phân bổ theo tháng\n",
    "Yêu cầu: Vẽ biểu đồ số lượng booking theo arrival_date_month cho từng năm.\n",
    "Nhận xét: Mùa cao điểm du lịch là tháng nào?"
   ]
  },
  {
   "cell_type": "code",
   "execution_count": 10,
   "id": "614f8e7b",
   "metadata": {},
   "outputs": [],
   "source": [
    "import matplotlib.pyplot as plt "
   ]
  },
  {
   "cell_type": "code",
   "execution_count": 11,
   "id": "f836b890",
   "metadata": {},
   "outputs": [
    {
     "data": {
      "image/png": "[encoded data removed]",
      "text/plain": [
       "<Figure size 1200x600 with 1 Axes>"
      ]
     },
     "metadata": {},
     "output_type": "display_data"
    },
    {
     "data": {
      "image/png": "[encoded data removed]",
      "text/plain": [
       "<Figure size 1200x600 with 1 Axes>"
      ]
     },
     "metadata": {},
     "output_type": "display_data"
    },
    {
     "data": {
      "image/png": "[encoded data removed]",
      "text/plain": [
       "<Figure size 1200x600 with 1 Axes>"
      ]
     },
     "metadata": {},
     "output_type": "display_data"
    }
   ],
   "source": [
    "# Tính tổng số booking của mỗi năm\n",
    "booking_total = df_total.groupby([\"arrival_date_year\", \"arrival_date_month\"]).size().reset_index(name= \"total_booking\")\n",
    "years = booking_total[\"arrival_date_year\"].unique()\n",
    "\n",
    "# Vẽ biểu đồ cột cho từng năm \n",
    "for year in years: \n",
    "    df_year = booking_total[booking_total[\"arrival_date_year\"] == year]\n",
    "\n",
    "# Thiết lập title, lable cho từng trục của biểu đồ\n",
    "    plt.figure(figsize= (12, 6))\n",
    "    plt.bar(df_year[\"arrival_date_month\"], df_year[\"total_booking\"])\n",
    "    plt.title(f\"Số lượng booking theo tháng của năm {year}\")\n",
    "    plt.xlabel(\"Tháng\")\n",
    "    plt.ylabel(\"Số booking\")\n"
   ]
  },
  {
   "cell_type": "markdown",
   "id": "79b776ee",
   "metadata": {},
   "source": [
    "Nhận xét: \n",
    "Trong năm 2018 - 2019, mùa cao điểm thường rơi vào tháng 7 tháng 8 và cao nhất là tháng 9 và tháng 10.\n",
    "Năm 2020, các tháng đều có lượng booking ngang nhau và không còn rơi vào các tháng cao điểm các năm trước đó (năm 2018, 2019), có thể do dịch bệnh làm giảm/thay đổi thói quen du lịch đi lại.\n",
    "Điểm chung của 3 năm là hầu như vào các tháng 1, tháng 2 đầu năm lượng booking sẽ không nhiều hoặc không có."
   ]
  },
  {
   "cell_type": "markdown",
   "id": "4575ebbd",
   "metadata": {},
   "source": [
    "Lab 7 – Kiểm tra giá trị thiếu (NaN)\n",
    "Yêu cầu: Đếm số lượng giá trị NaN trong từng cột (ví dụ agent, company).\n",
    "Hãy đề xuất cách xử lý (xóa, thay bằng giá trị mặc định, hay giữ nguyên)."
   ]
  },
  {
   "cell_type": "code",
   "execution_count": 12,
   "id": "5f5ae3d1",
   "metadata": {},
   "outputs": [
    {
     "data": {
      "text/plain": [
       "hotel                              0.000000\n",
       "is_canceled                        0.000000\n",
       "lead_time                          0.000000\n",
       "arrival_date_year                  0.000000\n",
       "arrival_date_month                 0.000000\n",
       "arrival_date_week_number           0.000000\n",
       "arrival_date_day_of_month          0.000000\n",
       "stays_in_weekend_nights            0.000000\n",
       "stays_in_week_nights               0.000000\n",
       "adults                             0.000000\n",
       "children                           0.000000\n",
       "babies                             0.000000\n",
       "meal                               0.000000\n",
       "country                            0.440305\n",
       "market_segment                     0.000000\n",
       "distribution_channel               0.000000\n",
       "is_repeated_guest                  0.000000\n",
       "previous_cancellations             0.000000\n",
       "previous_bookings_not_canceled     0.000000\n",
       "reserved_room_type                 0.000000\n",
       "assigned_room_type                 0.000000\n",
       "booking_changes                    0.000000\n",
       "deposit_type                       0.000000\n",
       "agent                             13.776269\n",
       "company                           94.276033\n",
       "days_in_waiting_list               0.000000\n",
       "customer_type                      0.000000\n",
       "adr                                0.000000\n",
       "required_car_parking_spaces        0.000000\n",
       "total_of_special_requests          0.000000\n",
       "reservation_status                 0.000000\n",
       "reservation_status_date            0.000000\n",
       "dtype: float64"
      ]
     },
     "execution_count": 12,
     "metadata": {},
     "output_type": "execute_result"
    }
   ],
   "source": [
    "# Kiểm tra các mục có % giá trị NaN\n",
    "df_total.isna().sum() * 100 / len(df_total)"
   ]
  },
  {
   "cell_type": "code",
   "execution_count": 13,
   "id": "baa191c2",
   "metadata": {},
   "outputs": [
    {
     "name": "stdout",
     "output_type": "stream",
     "text": [
      "Số lượng các giá trị NaN trước khi fill:\n",
      "agent        19555\n",
      "country        625\n",
      "children         0\n",
      "company     133822\n",
      "dtype: int64\n",
      "\n",
      "Số lượng các giá trị NaN sau khi fill:\n",
      "agent            0\n",
      "country          0\n",
      "children         0\n",
      "company     133822\n",
      "dtype: int64\n",
      "\n",
      "Số cột còn lại sau khi drop company: \n",
      "Index(['hotel', 'is_canceled', 'lead_time', 'arrival_date_year',\n",
      "       'arrival_date_month', 'arrival_date_week_number',\n",
      "       'arrival_date_day_of_month', 'stays_in_weekend_nights',\n",
      "       'stays_in_week_nights', 'adults', 'children', 'babies', 'meal',\n",
      "       'country', 'market_segment', 'distribution_channel',\n",
      "       'is_repeated_guest', 'previous_cancellations',\n",
      "       'previous_bookings_not_canceled', 'reserved_room_type',\n",
      "       'assigned_room_type', 'booking_changes', 'deposit_type', 'agent',\n",
      "       'days_in_waiting_list', 'customer_type', 'adr',\n",
      "       'required_car_parking_spaces', 'total_of_special_requests',\n",
      "       'reservation_status', 'reservation_status_date'],\n",
      "      dtype='object')\n"
     ]
    }
   ],
   "source": [
    "def count_nan(df, nan_col, fill_col, del_col, value=-1):\n",
    "    # Đếm NaN trước khi fill\n",
    "    nan_count_bf = df[nan_col].isna().sum()\n",
    "\n",
    "    # Fill các giá trị mặc định trên các cột cần xử lý\n",
    "    df[fill_col] = df[fill_col].fillna(value)\n",
    "\n",
    "    # Đếm NaN sau khi fill\n",
    "    nan_count_af = df[nan_col].isna().sum()\n",
    "\n",
    "    # Xóa cột company\n",
    "    df = df.drop(del_col, axis= 1)\n",
    "\n",
    "    return nan_count_bf, nan_count_af, df\n",
    "\n",
    "nan_col = [\"agent\", \"country\", \"children\", \"company\"]\n",
    "fill_col = [\"agent\", \"country\", \"children\"]\n",
    "del_col = \"company\"\n",
    "\n",
    "df_bf, df_af, df_total = count_nan(df_total, nan_col, fill_col, del_col)\n",
    "\n",
    "print(\"Số lượng các giá trị NaN trước khi fill:\")\n",
    "print(df_bf)\n",
    "print(\"\\nSố lượng các giá trị NaN sau khi fill:\")\n",
    "print(df_af)\n",
    "print(f\"\\nSố cột còn lại sau khi drop {del_col}: \")\n",
    "print(df_total.columns)"
   ]
  },
  {
   "cell_type": "markdown",
   "id": "923cb19e",
   "metadata": {},
   "source": [
    "Lab 8 – Chuẩn hóa ngày tháng\n",
    "Yêu cầu: Ghép các cột arrival_date_year, arrival_date_month, arrival_date_day_of_month thành một cột arrival_date dạng datetime.\n",
    "Kiểm tra có giá trị nào không hợp lệ không."
   ]
  },
  {
   "cell_type": "code",
   "execution_count": 14,
   "id": "f9c9ed0b",
   "metadata": {},
   "outputs": [
    {
     "name": "stdout",
     "output_type": "stream",
     "text": [
      "Số lượng các giá trị không hợp lệ: 0\n",
      "          hotel  is_canceled  lead_time  arrival_date_week_number  \\\n",
      "0  Resort Hotel            1         85                        27   \n",
      "1  Resort Hotel            1         75                        27   \n",
      "2  Resort Hotel            1         23                        27   \n",
      "3  Resort Hotel            1         60                        27   \n",
      "4  Resort Hotel            1         96                        27   \n",
      "\n",
      "   stays_in_weekend_nights  stays_in_week_nights  adults  children  babies  \\\n",
      "0                        0                     3       2         0       0   \n",
      "1                        0                     3       2         0       0   \n",
      "2                        0                     4       2         0       0   \n",
      "3                        2                     5       2         0       0   \n",
      "4                        2                     8       2         0       0   \n",
      "\n",
      "  meal  ... deposit_type  agent days_in_waiting_list  customer_type    adr  \\\n",
      "0   BB  ...   No Deposit  240.0                    0      Transient   82.0   \n",
      "1   HB  ...   No Deposit   15.0                    0      Transient  105.5   \n",
      "2   BB  ...   No Deposit  240.0                    0      Transient  123.0   \n",
      "3   BB  ...   No Deposit  240.0                    0      Transient  107.0   \n",
      "4   BB  ...   No Deposit   -1.0                    0      Transient  108.3   \n",
      "\n",
      "   required_car_parking_spaces total_of_special_requests reservation_status  \\\n",
      "0                            0                         1           Canceled   \n",
      "1                            0                         0           Canceled   \n",
      "2                            0                         0           Canceled   \n",
      "3                            0                         2           Canceled   \n",
      "4                            0                         2           Canceled   \n",
      "\n",
      "   reservation_status_date arrival_date  \n",
      "0               2018-05-06   2018-07-01  \n",
      "1               2018-04-22   2018-07-01  \n",
      "2               2018-06-23   2018-07-01  \n",
      "3               2018-05-11   2018-07-01  \n",
      "4               2018-05-29   2018-07-01  \n",
      "\n",
      "[5 rows x 29 columns]\n"
     ]
    }
   ],
   "source": [
    "# Ghép các cột thành một cột arrival_date dạng datetime\n",
    "df_total[\"arrival_date\"] = pd.to_datetime(\n",
    "    df_total[\"arrival_date_year\"].astype(str) + \"-\" + \n",
    "    df_total[\"arrival_date_month\"].astype(str) + \"-\" + \n",
    "    df_total[\"arrival_date_day_of_month\"].astype(str), errors= \"coerce\")\n",
    "\n",
    "# Drop 3 cột đã được ghép\n",
    "df_total = df_total.drop([\"arrival_date_year\", \"arrival_date_month\", \"arrival_date_day_of_month\"], axis= 1)\n",
    "\n",
    "# Kiểm tra các giá trị không hợp lệ\n",
    "invalid_values = df_total[\"arrival_date\"].isna().sum()\n",
    "print(f\"Số lượng các giá trị không hợp lệ: {invalid_values}\")\n",
    "\n",
    "# Kiểm tra dữ liệu sau khi ghép\n",
    "print(df_total.head(5))"
   ]
  },
  {
   "cell_type": "markdown",
   "id": "8325c7ae",
   "metadata": {},
   "source": [
    "Lab 9 – Tạo biến mới\n",
    "Yêu cầu: Tạo thêm cột total_nights = stays_in_weekend_nights + stays_in_week_nights.\n",
    "Sau đó tính số booking có total_nights = 0 (đặt nhưng không ở).\n"
   ]
  },
  {
   "cell_type": "code",
   "execution_count": 15,
   "id": "1b876cd6",
   "metadata": {},
   "outputs": [
    {
     "name": "stdout",
     "output_type": "stream",
     "text": [
      "Số booking nhưng không ở: 871\n"
     ]
    }
   ],
   "source": [
    "# Tạo thêm cột total_nights\n",
    "df_total[\"total_nights\"] = (\n",
    "    df_total[\"stays_in_weekend_nights\"] + df_total[\"stays_in_week_nights\"])\n",
    "\n",
    "# Tính số booking có total_nights đặt nhưng không ở \n",
    "not_stay = (df_total[\"total_nights\"] == 0).sum()\n",
    "print(f\"Số booking nhưng không ở: {not_stay}\")\n"
   ]
  },
  {
   "cell_type": "markdown",
   "id": "292c51e6",
   "metadata": {},
   "source": [
    "Lab 10 – Xử lý dữ liệu không hợp lệ\n",
    "Yêu cầu: Kiểm tra cột adr (Average Daily Rate).\n",
    "Có giá trị nào âm hoặc bằng 0 không? Nếu có → xử lý thế nào?"
   ]
  },
  {
   "cell_type": "code",
   "execution_count": 16,
   "id": "576084de",
   "metadata": {},
   "outputs": [
    {
     "name": "stdout",
     "output_type": "stream",
     "text": [
      "Số lượng giá trị ADR âm là: 1\n",
      "Số lượng giá trị ADR bằng 0 là: 2555\n",
      "            hotel  is_canceled  lead_time  arrival_date_week_number  \\\n",
      "82   Resort Hotel            1         57                        29   \n",
      "565  Resort Hotel            1        304                        36   \n",
      "566  Resort Hotel            1        297                        36   \n",
      "577  Resort Hotel            1        333                        36   \n",
      "600  Resort Hotel            1        336                        37   \n",
      "\n",
      "     stays_in_weekend_nights  stays_in_week_nights  adults  children  babies  \\\n",
      "82                         0                     2       2         0       0   \n",
      "565                        0                     3      40         0       0   \n",
      "566                        1                     3       2         0       0   \n",
      "577                        2                     5      26         0       0   \n",
      "600                        1                     2      50         0       0   \n",
      "\n",
      "    meal  ... days_in_waiting_list    customer_type  adr  \\\n",
      "82    FB  ...                    0  Transient-Party  0.0   \n",
      "565   BB  ...                    0            Group  0.0   \n",
      "566   BB  ...                    0        Transient  0.0   \n",
      "577   BB  ...                    0            Group  0.0   \n",
      "600   BB  ...                    0            Group  0.0   \n",
      "\n",
      "     required_car_parking_spaces  total_of_special_requests  \\\n",
      "82                             0                          0   \n",
      "565                            0                          0   \n",
      "566                            0                          0   \n",
      "577                            0                          0   \n",
      "600                            0                          0   \n",
      "\n",
      "     reservation_status reservation_status_date arrival_date  total_nights  \\\n",
      "82             Canceled              2018-07-13   2018-07-15             2   \n",
      "565            Canceled              2018-01-02   2018-09-03             3   \n",
      "566            Canceled              2014-11-18   2018-09-03             4   \n",
      "577            Canceled              2018-01-02   2018-09-05             7   \n",
      "600            Canceled              2018-01-18   2018-09-07             3   \n",
      "\n",
      "    is_zero  \n",
      "82        1  \n",
      "565       1  \n",
      "566       1  \n",
      "577       1  \n",
      "600       1  \n",
      "\n",
      "[5 rows x 31 columns]\n"
     ]
    }
   ],
   "source": [
    "# Tính số lượng giá trị âm\n",
    "negative_values = (df_total[\"adr\"] < 0).sum()\n",
    "zero_values = (df_total[\"adr\"] == 0).sum()\n",
    "print(f\"Số lượng giá trị ADR âm là: {negative_values}\")\n",
    "print(f\"Số lượng giá trị ADR bằng 0 là: {zero_values}\")\n",
    "\n",
    "\"\"\"\n",
    "    Vì chỉ có 1 giá trị âm nên có thể drop giá trị đó đi\n",
    "    Nhưng các giá trị bằng 0 thì nhiều nên sẽ tạo 1 cột \"is_zero\" - đánh dấu những giá trị ADR bằng 0 \n",
    "\n",
    "\"\"\"\n",
    "# Drop giá trị âm\n",
    "df_total = df_total[df_total[\"adr\"] >= 0]\n",
    "\n",
    "# Tạo một cột mới đánh dấu cho các giá trị bằng 0 \n",
    "df_total[\"is_zero\"] = (df_total[\"adr\"] == 0).astype(int)\n",
    "\n",
    "# Kiểm tra các cột bằng 0 đã được đánh dấu hay chưa\n",
    "print(df_total[df_total[\"is_zero\"] == 1].head())\n"
   ]
  },
  {
   "cell_type": "markdown",
   "id": "3031b72d",
   "metadata": {},
   "source": [
    "Lab 11 – Chuẩn hóa dữ liệu text\n",
    "Yêu cầu: Kiểm tra cột meal và market_segment.\n",
    "Có giá trị \"Undefined\" → thay bằng \"Other\"."
   ]
  },
  {
   "cell_type": "code",
   "execution_count": 17,
   "id": "c2a3d6dd",
   "metadata": {},
   "outputs": [
    {
     "name": "stdout",
     "output_type": "stream",
     "text": [
      "Trước khi replace:\n",
      "meal: 1372\n",
      "market segment: 4\n",
      "\n",
      "Sau khi replace:\n",
      "meal: ['BB' 'HB' 'FB' 'Other' 'SC']\n",
      "market segment: ['Online TA' 'Offline TA/TO' 'Direct' 'Corporate' 'Groups' 'Complementary'\n",
      " 'Other' 'Aviation']\n"
     ]
    }
   ],
   "source": [
    "# Đếm số giá trị Undefined \n",
    "print(\"Trước khi replace:\")\n",
    "print(f\"meal: {(df_total[\"meal\"] == \"Undefined\").sum()}\")\n",
    "print(f\"market segment: {(df_total[\"market_segment\"] == \"Undefined\").sum()}\")\n",
    "\n",
    "# Thay các giá trị \"Undefined\" bằng \"Other\"\n",
    "df_total[\"meal\"] = df_total[\"meal\"].replace(\"Undefined\", \"Other\")\n",
    "df_total[\"market_segment\"] = df_total[\"market_segment\"].replace(\"Undefined\", \"Other\")\n",
    "\n",
    "# Các giá trị còn lại trong cột sau khi replace\n",
    "print(\"\\nSau khi replace:\")\n",
    "print(f\"meal: {df_total[\"meal\"].unique()}\")\n",
    "print(f\"market segment: {df_total[\"market_segment\"].unique()}\")"
   ]
  }
 ],
 "metadata": {
  "kernelspec": {
   "display_name": "Python 3",
   "language": "python",
   "name": "python3"
  },
  "language_info": {
   "codemirror_mode": {
    "name": "ipython",
    "version": 3
   },
   "file_extension": ".py",
   "mimetype": "text/x-python",
   "name": "python",
   "nbconvert_exporter": "python",
   "pygments_lexer": "ipython3",
   "version": "3.12.7"
  }
 },
 "nbformat": 4,
 "nbformat_minor": 5
}
